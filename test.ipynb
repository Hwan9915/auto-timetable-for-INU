{
 "cells": [
  {
   "cell_type": "code",
   "execution_count": 12,
   "metadata": {},
   "outputs": [],
   "source": [
    "import pandas as pd \n",
    "\n",
    "df = pd.read_csv('2024-1-preprocessed.csv')"
   ]
  },
  {
   "cell_type": "code",
   "execution_count": 13,
   "metadata": {},
   "outputs": [],
   "source": [
    "df =df.drop('Unnamed: 0', axis=1)"
   ]
  },
  {
   "cell_type": "code",
   "execution_count": 15,
   "metadata": {},
   "outputs": [],
   "source": [
    "df.to_csv('2024-1-preprocessed.csv',index=False)"
   ]
  },
  {
   "cell_type": "code",
   "execution_count": 24,
   "metadata": {},
   "outputs": [
    {
     "name": "stdout",
     "output_type": "stream",
     "text": [
      "['국어국문학과', 0, '전공심화', '0009062001', 'RISE', '안소진', ' [15-503:수(야1-2A)(야2B-3)]', ' [15-503:수(18:00~19:15)(19:25~20:40)]', 3, 'RISE(시간표 있음)']\n",
      "['국어국문학과', 0, '전공심화', '0009062082', 'RISE', '송원용', ' [15-119:수(야1-2A)(야2B-3)]', ' [15-119:수(18:00~19:15)(19:25~20:40)]', 3, 'RISE(시간표 있음)']\n"
     ]
    }
   ],
   "source": [
    "for series in df.values[:2]:\n",
    "    print(list(series))"
   ]
  },
  {
   "cell_type": "code",
   "execution_count": 21,
   "metadata": {},
   "outputs": [
    {
     "data": {
      "text/plain": [
       "array(['국어국문학과', 0, '전공심화', '0009062082', 'RISE', '송원용',\n",
       "       ' [15-119:수(야1-2A)(야2B-3)]',\n",
       "       ' [15-119:수(18:00~19:15)(19:25~20:40)]', 3, 'RISE(시간표 있음)'],\n",
       "      dtype=object)"
      ]
     },
     "execution_count": 21,
     "metadata": {},
     "output_type": "execute_result"
    }
   ],
   "source": [
    "df.values[1]"
   ]
  },
  {
   "cell_type": "code",
   "execution_count": null,
   "metadata": {},
   "outputs": [],
   "source": []
  }
 ],
 "metadata": {
  "kernelspec": {
   "display_name": ".venv",
   "language": "python",
   "name": "python3"
  },
  "language_info": {
   "codemirror_mode": {
    "name": "ipython",
    "version": 3
   },
   "file_extension": ".py",
   "mimetype": "text/x-python",
   "name": "python",
   "nbconvert_exporter": "python",
   "pygments_lexer": "ipython3",
   "version": "3.11.9"
  }
 },
 "nbformat": 4,
 "nbformat_minor": 2
}
